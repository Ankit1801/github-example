{
 "cells": [
  {
   "cell_type": "markdown",
   "metadata": {},
   "source": [
    "## Data Description"
   ]
  },
  {
   "cell_type": "markdown",
   "metadata": {},
   "source": [
    "The Restaurant chain has a list of 25 cities which ill be the base data, for which we need to perform the cluster analysis.\n",
    "The base data will have only 2 columns- City and Country\n",
    "\n",
    "For Example, Column A will be 'Toronto' and Column B will be 'Canada'"
   ]
  },
  {
   "cell_type": "markdown",
   "metadata": {},
   "source": [
    "#### Data Processing to be done"
   ]
  },
  {
   "cell_type": "markdown",
   "metadata": {},
   "source": [
    "In order to generate latitude and longitude for these cities, we will will first generate a new column called 'Address' which will combine the 2 available columns in format- CityName, CountryName\n",
    "\n",
    "So the address column will have value like 'Toronto, Canada'"
   ]
  },
  {
   "cell_type": "markdown",
   "metadata": {},
   "source": [
    "Once the Address is generated, we will use the geocoders package to generate the Lat/Long Details of the cities."
   ]
  },
  {
   "cell_type": "markdown",
   "metadata": {},
   "source": [
    "We will also use the Foursquare API to get nearby locations of each of the cities by passing the co-ordinated generated\n",
    "Ultimately, we will have the city name, country name, address, city latitude,city longitude, venue details such as venue name, its location details and category which will be used for further processing "
   ]
  },
  {
   "cell_type": "markdown",
   "metadata": {},
   "source": [
    "After getting the nearby venues for all cities, we will perform on hot encoding and get average scores for each venue type for each city."
   ]
  },
  {
   "cell_type": "markdown",
   "metadata": {},
   "source": [
    "Based on the score, we will identify top 10 most common category types and use only that data for k means clustering\n",
    "We will now have city along with the average score for top 10 most common venues, on which we will be performing the k means."
   ]
  },
  {
   "cell_type": "markdown",
   "metadata": {},
   "source": [
    "K Means clustering will be performed on this dataset and results will be visualized and checked for observations."
   ]
  },
  {
   "cell_type": "code",
   "execution_count": null,
   "metadata": {},
   "outputs": [],
   "source": []
  }
 ],
 "metadata": {
  "kernelspec": {
   "display_name": "Python",
   "language": "python",
   "name": "conda-env-python-py"
  },
  "language_info": {
   "codemirror_mode": {
    "name": "ipython",
    "version": 3
   },
   "file_extension": ".py",
   "mimetype": "text/x-python",
   "name": "python",
   "nbconvert_exporter": "python",
   "pygments_lexer": "ipython3",
   "version": "3.6.10"
  }
 },
 "nbformat": 4,
 "nbformat_minor": 4
}
